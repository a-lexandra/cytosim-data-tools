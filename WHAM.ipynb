{
 "cells": [
  {
   "cell_type": "markdown",
   "metadata": {},
   "source": [
    "## Algorithm\n",
    "\n",
    "### Set $f_{\\alpha’’}$\n",
    "\n",
    "Initial guess: 1 for all $\\alpha’’$\n",
    "\n",
    "### Calculate $\\mathcal{P}_0(\\dot{w})$\n",
    "\n",
    "Numerator\n",
    "\n",
    "- For each $\\alpha$, histogram $\\dot{w}$ values (==for all clones???==)\n",
    "  - Input: bin size, value of $\\alpha$\n",
    "  - File: `wDots.txt`\n",
    "- Combine histograms\n",
    "\n",
    "Denominator\n",
    "\n",
    "- $c_{\\alpha’’}(\\dot{w}) = \\exp \\left[ -\\beta \\alpha'' \\int_0^\\tau \\dot{w}\\,dt \\right]$: calculate for each clone and sum \n",
    "  - Input: value of $\\alpha$\n",
    "  - File: `wDotIntegral.txt`\n",
    "  - ==Scalar value independent of $\\dot{w}$??==\n",
    "- Multiply by $f_{\\alpha’’}$ and $N_{\\alpha’’}$\n",
    "  - Input: $N_{\\alpha’’}$ (number of clones * number of frames)\n",
    "    - Number of clones: number of `clone*` directories\n",
    "    - Number of frames: number of lines in `wDots.txt` - 1 ==?== \n",
    "- Take sum over all values of $\\alpha’’$\n",
    "\n",
    "Calculate $\\mathcal{P}_0(\\dot{w})$\n",
    "\n",
    "### Calculate $f_{\\alpha’’}$\n",
    "\n",
    "- Sum over all $\\dot{w}$ bins: $c_{\\alpha’’}(\\dot{w})\\mathcal{P}_0(\\dot{w})$\n",
    "  - Input: \n",
    "- Take inverse\n",
    "\n",
    "### Monitor convergence ==?=="
   ]
  },
  {
   "cell_type": "code",
   "execution_count": 2,
   "metadata": {},
   "outputs": [],
   "source": []
  },
  {
   "cell_type": "code",
   "execution_count": null,
   "metadata": {},
   "outputs": [],
   "source": []
  }
 ],
 "metadata": {
  "kernelspec": {
   "display_name": "Python 3",
   "language": "python",
   "name": "python3"
  },
  "language_info": {
   "codemirror_mode": {
    "name": "ipython",
    "version": 3
   },
   "file_extension": ".py",
   "mimetype": "text/x-python",
   "name": "python",
   "nbconvert_exporter": "python",
   "pygments_lexer": "ipython3",
   "version": "3.6.3"
  }
 },
 "nbformat": 4,
 "nbformat_minor": 2
}
